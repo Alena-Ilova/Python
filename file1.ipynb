{
 "cells": [
  {
   "cell_type": "code",
   "execution_count": 1,
   "id": "d14d9081-8e71-43c2-9e56-0139b5b8e5da",
   "metadata": {
    "tags": []
   },
   "outputs": [
    {
     "data": {
      "text/plain": [
       "22"
      ]
     },
     "execution_count": 1,
     "metadata": {},
     "output_type": "execute_result"
    }
   ],
   "source": [
    "22"
   ]
  },
  {
   "cell_type": "code",
   "execution_count": 5,
   "id": "69588f7f-41d4-43cf-9252-541f056f7cd8",
   "metadata": {
    "tags": []
   },
   "outputs": [
    {
     "data": {
      "text/plain": [
       "6712"
      ]
     },
     "execution_count": 5,
     "metadata": {},
     "output_type": "execute_result"
    }
   ],
   "source": [
    "6+37+6669"
   ]
  },
  {
   "cell_type": "code",
   "execution_count": 6,
   "id": "dbfb3fdb-d205-492d-a7aa-362355c27038",
   "metadata": {
    "tags": []
   },
   "outputs": [
    {
     "data": {
      "text/plain": [
       "558"
      ]
     },
     "execution_count": 6,
     "metadata": {},
     "output_type": "execute_result"
    }
   ],
   "source": [
    "(6-2)*3+546"
   ]
  },
  {
   "cell_type": "code",
   "execution_count": 4,
   "id": "5a558850-eb9d-4284-aa74-a46aeeff50a0",
   "metadata": {
    "tags": []
   },
   "outputs": [
    {
     "name": "stdout",
     "output_type": "stream",
     "text": [
      "Hello, everyone\n"
     ]
    }
   ],
   "source": [
    "print (\"Hello, everyone\")"
   ]
  },
  {
   "cell_type": "code",
   "execution_count": 6,
   "id": "46669c74-f39d-466a-bafa-b95cf7b6728d",
   "metadata": {
    "tags": []
   },
   "outputs": [
    {
     "name": "stdin",
     "output_type": "stream",
     "text": [
      "Input number: 10\n"
     ]
    }
   ],
   "source": [
    "x= input(\"Input number:\")"
   ]
  },
  {
   "cell_type": "code",
   "execution_count": 7,
   "id": "dd3c270b-4ab2-4736-8d3e-67e8bcad9f6a",
   "metadata": {
    "tags": []
   },
   "outputs": [
    {
     "name": "stdout",
     "output_type": "stream",
     "text": [
      "10\n"
     ]
    }
   ],
   "source": [
    "print(x)"
   ]
  },
  {
   "cell_type": "code",
   "execution_count": null,
   "id": "f14fec8b-68d1-49ed-b79a-fde2010f802c",
   "metadata": {},
   "outputs": [],
   "source": []
  }
 ],
 "metadata": {
  "kernelspec": {
   "display_name": "Python 3 (ipykernel)",
   "language": "python",
   "name": "python3"
  },
  "language_info": {
   "codemirror_mode": {
    "name": "ipython",
    "version": 3
   },
   "file_extension": ".py",
   "mimetype": "text/x-python",
   "name": "python",
   "nbconvert_exporter": "python",
   "pygments_lexer": "ipython3",
   "version": "3.10.9"
  }
 },
 "nbformat": 4,
 "nbformat_minor": 5
}
